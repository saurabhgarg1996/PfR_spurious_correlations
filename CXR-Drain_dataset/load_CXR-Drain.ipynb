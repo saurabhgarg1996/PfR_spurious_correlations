{
 "cells": [
  {
   "cell_type": "code",
   "execution_count": 1,
   "id": "7393b71e-2778-4cbd-986d-3c51a563e454",
   "metadata": {},
   "outputs": [],
   "source": [
    "import numpy as np \n",
    "import pickle \n",
    "\n",
    "import pandas as pd\n",
    "\n",
    "# Download and setup CXR14 dataset\n",
    "img_dir = \"path/to/CXR14/image/dir\" # \"/data/chestxray14/CXR8/images/images/\" \n",
    "\n",
    "# local files to load and use the data\n",
    "train_csv = \"train.csv\"\n",
    "test_csv = \"test.csv\"\n",
    "responses_GPT = \"responses_GPT.pkl\"\n",
    "\n",
    "with open(responses_GPT, \"rb\") as f: \n",
    "    gpt_answers = pickle.load(f)\n",
    "\n",
    "\n"
   ]
  },
  {
   "cell_type": "code",
   "execution_count": 2,
   "id": "775f89f6-8ef0-4b44-9d71-0fd973f6305e",
   "metadata": {},
   "outputs": [],
   "source": [
    "train_data = pd.read_csv(train_csv)\n",
    "test_data = pd.read_csv(test_csv)"
   ]
  },
  {
   "cell_type": "code",
   "execution_count": null,
   "id": "4b85af26-0089-4f94-9393-f83b028f039e",
   "metadata": {},
   "outputs": [],
   "source": []
  },
  {
   "cell_type": "code",
   "execution_count": null,
   "id": "e434ef5d-d44e-43b9-a5a9-79640318cd8f",
   "metadata": {},
   "outputs": [],
   "source": []
  }
 ],
 "metadata": {
  "kernelspec": {
   "display_name": "Python 3 (ipykernel)",
   "language": "python",
   "name": "python3"
  },
  "language_info": {
   "codemirror_mode": {
    "name": "ipython",
    "version": 3
   },
   "file_extension": ".py",
   "mimetype": "text/x-python",
   "name": "python",
   "nbconvert_exporter": "python",
   "pygments_lexer": "ipython3",
   "version": "3.10.13"
  }
 },
 "nbformat": 4,
 "nbformat_minor": 5
}
